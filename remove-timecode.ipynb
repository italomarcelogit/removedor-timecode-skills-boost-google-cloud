{
 "cells": [
  {
   "cell_type": "markdown",
   "metadata": {},
   "source": [
    "# Removedor de timecode da transcrição do Gooble Cloud Skills Boost\n",
    "\n",
    "## Utilizando a lib pyperclip\n",
    "\n",
    "Instale a biblioteca pyperclip com o comando abaixo no seu jupyter notebook\n",
    "!pip install pyperclip\n",
    "\n",
    "ou via shell\n",
    "pip install pyperclip"
   ]
  },
  {
   "cell_type": "code",
   "execution_count": 2,
   "metadata": {},
   "outputs": [],
   "source": [
    "# importe a biblioteca\n",
    "import pyperclip"
   ]
  },
  {
   "cell_type": "code",
   "execution_count": 3,
   "metadata": {},
   "outputs": [],
   "source": [
    "# cole o texto com os time codes\n",
    "texto = \"\"\"\n",
    "00:01\n",
    "Olá. Esta é a Introdução à IA generativa.\n",
    "00:04\n",
    "Sou a Dra. Gwendolyn Stripling, desenvolvedora de conteúdo técnico de inteligência artificial aqui no Google Cloud.\n",
    "00:14\n",
    "Neste curso, você vai aprender a definir o que é IA generativa, explicar como ela funciona, descrever tipos de modelos e descrever aplicações de IA generativa.\n",
    "00:28\n",
    "A IA generativa é um tipo de tecnologia de inteligência artificial capaz de produzir vários tipos de conteúdo, incluindo texto, imagens, áudio e dados sintéticos.\n",
    "\"\"\""
   ]
  },
  {
   "cell_type": "code",
   "execution_count": 6,
   "metadata": {},
   "outputs": [],
   "source": [
    "novo_texto = \"\"\n",
    "for linha in texto.split('\\n'):\n",
    "    if len(linha) == 5 and linha[2] == \":\":\n",
    "        pass\n",
    "    else:\n",
    "        novo_texto+=\"\\n\"+linha"
   ]
  },
  {
   "cell_type": "code",
   "execution_count": 7,
   "metadata": {},
   "outputs": [
    {
     "name": "stdout",
     "output_type": "stream",
     "text": [
      "\n",
      "\n",
      "Olá. Esta é a Introdução à IA generativa.\n",
      "Sou a Dra. Gwendolyn Stripling, desenvolvedora de conteúdo técnico de inteligência artificial aqui no Google Cloud.\n",
      "Neste curso, você vai aprender a definir o que é IA generativa, explicar como ela funciona, descrever tipos de modelos e descrever aplicações de IA generativa.\n",
      "A IA generativa é um tipo de tecnologia de inteligência artificial capaz de produzir vários tipos de conteúdo, incluindo texto, imagens, áudio e dados sintéticos.\n",
      "\n"
     ]
    }
   ],
   "source": [
    "# Exibindo sem o time code\n",
    "print(novo_texto)\n",
    "# salvando o mesmo conteúdo na memória\n",
    "pyperclip.copy(novo_texto)"
   ]
  }
 ],
 "metadata": {
  "kernelspec": {
   "display_name": "venv",
   "language": "python",
   "name": "python3"
  },
  "language_info": {
   "codemirror_mode": {
    "name": "ipython",
    "version": 3
   },
   "file_extension": ".py",
   "mimetype": "text/x-python",
   "name": "python",
   "nbconvert_exporter": "python",
   "pygments_lexer": "ipython3",
   "version": "3.11.0"
  },
  "orig_nbformat": 4
 },
 "nbformat": 4,
 "nbformat_minor": 2
}
